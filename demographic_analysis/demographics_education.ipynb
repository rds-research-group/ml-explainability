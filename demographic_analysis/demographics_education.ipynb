{
 "cells": [
  {
   "cell_type": "markdown",
   "metadata": {},
   "source": [
    "# Demographic analysis education"
   ]
  },
  {
   "cell_type": "code",
   "execution_count": 1,
   "metadata": {},
   "outputs": [],
   "source": [
    "import pandas as pd\n",
    "import numpy as np\n",
    "import seaborn as sns\n",
    "\n",
    "from matplotlib import pyplot as plt\n",
    "%matplotlib inline\n",
    "\n",
    "pd.set_option('display.max_columns', None)\n",
    "pd.set_option('display.max_rows', None)"
   ]
  },
  {
   "cell_type": "code",
   "execution_count": 2,
   "metadata": {},
   "outputs": [],
   "source": [
    "data_raw = pd.read_csv('./data/prolific_export_education.csv')"
   ]
  },
  {
   "cell_type": "code",
   "execution_count": 3,
   "metadata": {},
   "outputs": [
    {
     "name": "stdout",
     "output_type": "stream",
     "text": [
      "(191, 22)\n"
     ]
    },
    {
     "data": {
      "text/html": [
       "<div>\n",
       "<style scoped>\n",
       "    .dataframe tbody tr th:only-of-type {\n",
       "        vertical-align: middle;\n",
       "    }\n",
       "\n",
       "    .dataframe tbody tr th {\n",
       "        vertical-align: top;\n",
       "    }\n",
       "\n",
       "    .dataframe thead th {\n",
       "        text-align: right;\n",
       "    }\n",
       "</style>\n",
       "<table border=\"1\" class=\"dataframe\">\n",
       "  <thead>\n",
       "    <tr style=\"text-align: right;\">\n",
       "      <th></th>\n",
       "      <th>session_id</th>\n",
       "      <th>participant_id</th>\n",
       "      <th>status</th>\n",
       "      <th>started_datetime</th>\n",
       "      <th>completed_date_time</th>\n",
       "      <th>time_taken</th>\n",
       "      <th>age</th>\n",
       "      <th>num_approvals</th>\n",
       "      <th>num_rejections</th>\n",
       "      <th>prolific_score</th>\n",
       "      <th>reviewed_at_datetime</th>\n",
       "      <th>entered_code</th>\n",
       "      <th>Country of Birth</th>\n",
       "      <th>Current Country of Residence</th>\n",
       "      <th>Employment Status</th>\n",
       "      <th>Employment-Sector</th>\n",
       "      <th>First Language</th>\n",
       "      <th>Fluent languages</th>\n",
       "      <th>Industry</th>\n",
       "      <th>Nationality</th>\n",
       "      <th>Sex</th>\n",
       "      <th>Student Status</th>\n",
       "    </tr>\n",
       "  </thead>\n",
       "  <tbody>\n",
       "    <tr>\n",
       "      <th>0</th>\n",
       "      <td>6124699d3df8d8d6e8ce334b</td>\n",
       "      <td>61212beefffd07317f07b55a</td>\n",
       "      <td>APPROVED</td>\n",
       "      <td>2021-08-24 03:38:08.146000</td>\n",
       "      <td>2021-08-24 03:46:09.560000</td>\n",
       "      <td>481.414</td>\n",
       "      <td>22.0</td>\n",
       "      <td>43</td>\n",
       "      <td>0</td>\n",
       "      <td>100</td>\n",
       "      <td>2021-08-25 15:48:16.441000</td>\n",
       "      <td>14E92B13</td>\n",
       "      <td>United States</td>\n",
       "      <td>United States</td>\n",
       "      <td>Full-Time</td>\n",
       "      <td>Education &amp; Training</td>\n",
       "      <td>English</td>\n",
       "      <td>English</td>\n",
       "      <td>Primary/Secondary (K-12) Education</td>\n",
       "      <td>United States</td>\n",
       "      <td>Female</td>\n",
       "      <td>Yes</td>\n",
       "    </tr>\n",
       "    <tr>\n",
       "      <th>1</th>\n",
       "      <td>612476804241ac935d23c87c</td>\n",
       "      <td>61137445c179a2570c7be95a</td>\n",
       "      <td>APPROVED</td>\n",
       "      <td>2021-08-24 04:33:17.538000</td>\n",
       "      <td>2021-08-24 04:40:34.861000</td>\n",
       "      <td>437.323</td>\n",
       "      <td>45.0</td>\n",
       "      <td>93</td>\n",
       "      <td>0</td>\n",
       "      <td>100</td>\n",
       "      <td>2021-08-25 15:48:16.521000</td>\n",
       "      <td>14E92B13</td>\n",
       "      <td>United States</td>\n",
       "      <td>United States</td>\n",
       "      <td>Full-Time</td>\n",
       "      <td>Education &amp; Training</td>\n",
       "      <td>English</td>\n",
       "      <td>English</td>\n",
       "      <td>Primary/Secondary (K-12) Education</td>\n",
       "      <td>United States</td>\n",
       "      <td>Female</td>\n",
       "      <td>No</td>\n",
       "    </tr>\n",
       "    <tr>\n",
       "      <th>2</th>\n",
       "      <td>61247b448b0174bfd0967596</td>\n",
       "      <td>6102d3c05c31cb5c38158b34</td>\n",
       "      <td>APPROVED</td>\n",
       "      <td>2021-08-24 04:53:27.454000</td>\n",
       "      <td>2021-08-24 05:00:17.573000</td>\n",
       "      <td>410.119</td>\n",
       "      <td>30.0</td>\n",
       "      <td>66</td>\n",
       "      <td>0</td>\n",
       "      <td>100</td>\n",
       "      <td>2021-08-25 15:48:16.592000</td>\n",
       "      <td>14E92B13</td>\n",
       "      <td>United States</td>\n",
       "      <td>United States</td>\n",
       "      <td>Full-Time</td>\n",
       "      <td>Education &amp; Training</td>\n",
       "      <td>English</td>\n",
       "      <td>English</td>\n",
       "      <td>Primary/Secondary (K-12) Education</td>\n",
       "      <td>United States</td>\n",
       "      <td>Female</td>\n",
       "      <td>Yes</td>\n",
       "    </tr>\n",
       "    <tr>\n",
       "      <th>3</th>\n",
       "      <td>6124827bac73a3025729f5da</td>\n",
       "      <td>610b88a14eed14f2b8b17b86</td>\n",
       "      <td>APPROVED</td>\n",
       "      <td>2021-08-24 05:24:28.625000</td>\n",
       "      <td>2021-08-24 05:31:48.212000</td>\n",
       "      <td>439.587</td>\n",
       "      <td>22.0</td>\n",
       "      <td>46</td>\n",
       "      <td>0</td>\n",
       "      <td>100</td>\n",
       "      <td>2021-08-25 15:48:16.666000</td>\n",
       "      <td>14E92B13</td>\n",
       "      <td>United States</td>\n",
       "      <td>United States</td>\n",
       "      <td>Part-Time</td>\n",
       "      <td>Education &amp; Training</td>\n",
       "      <td>English</td>\n",
       "      <td>English</td>\n",
       "      <td>Primary/Secondary (K-12) Education</td>\n",
       "      <td>United States</td>\n",
       "      <td>Female</td>\n",
       "      <td>Yes</td>\n",
       "    </tr>\n",
       "    <tr>\n",
       "      <th>4</th>\n",
       "      <td>612489c1a8c49007666b059e</td>\n",
       "      <td>610c24152939c927ad421fa9</td>\n",
       "      <td>APPROVED</td>\n",
       "      <td>2021-08-24 05:55:50.597000</td>\n",
       "      <td>2021-08-24 06:01:27.560000</td>\n",
       "      <td>336.963</td>\n",
       "      <td>29.0</td>\n",
       "      <td>72</td>\n",
       "      <td>0</td>\n",
       "      <td>100</td>\n",
       "      <td>2021-08-25 15:48:16.749000</td>\n",
       "      <td>14E92B13</td>\n",
       "      <td>United States</td>\n",
       "      <td>United States</td>\n",
       "      <td>Full-Time</td>\n",
       "      <td>Education &amp; Training</td>\n",
       "      <td>English</td>\n",
       "      <td>English</td>\n",
       "      <td>Primary/Secondary (K-12) Education</td>\n",
       "      <td>United States</td>\n",
       "      <td>Female</td>\n",
       "      <td>No</td>\n",
       "    </tr>\n",
       "  </tbody>\n",
       "</table>\n",
       "</div>"
      ],
      "text/plain": [
       "                 session_id            participant_id    status  \\\n",
       "0  6124699d3df8d8d6e8ce334b  61212beefffd07317f07b55a  APPROVED   \n",
       "1  612476804241ac935d23c87c  61137445c179a2570c7be95a  APPROVED   \n",
       "2  61247b448b0174bfd0967596  6102d3c05c31cb5c38158b34  APPROVED   \n",
       "3  6124827bac73a3025729f5da  610b88a14eed14f2b8b17b86  APPROVED   \n",
       "4  612489c1a8c49007666b059e  610c24152939c927ad421fa9  APPROVED   \n",
       "\n",
       "             started_datetime         completed_date_time  time_taken   age  \\\n",
       "0  2021-08-24 03:38:08.146000  2021-08-24 03:46:09.560000     481.414  22.0   \n",
       "1  2021-08-24 04:33:17.538000  2021-08-24 04:40:34.861000     437.323  45.0   \n",
       "2  2021-08-24 04:53:27.454000  2021-08-24 05:00:17.573000     410.119  30.0   \n",
       "3  2021-08-24 05:24:28.625000  2021-08-24 05:31:48.212000     439.587  22.0   \n",
       "4  2021-08-24 05:55:50.597000  2021-08-24 06:01:27.560000     336.963  29.0   \n",
       "\n",
       "   num_approvals  num_rejections  prolific_score        reviewed_at_datetime  \\\n",
       "0             43               0             100  2021-08-25 15:48:16.441000   \n",
       "1             93               0             100  2021-08-25 15:48:16.521000   \n",
       "2             66               0             100  2021-08-25 15:48:16.592000   \n",
       "3             46               0             100  2021-08-25 15:48:16.666000   \n",
       "4             72               0             100  2021-08-25 15:48:16.749000   \n",
       "\n",
       "  entered_code Country of Birth Current Country of Residence  \\\n",
       "0     14E92B13    United States                United States   \n",
       "1     14E92B13    United States                United States   \n",
       "2     14E92B13    United States                United States   \n",
       "3     14E92B13    United States                United States   \n",
       "4     14E92B13    United States                United States   \n",
       "\n",
       "  Employment Status     Employment-Sector First Language Fluent languages  \\\n",
       "0         Full-Time  Education & Training        English          English   \n",
       "1         Full-Time  Education & Training        English          English   \n",
       "2         Full-Time  Education & Training        English          English   \n",
       "3         Part-Time  Education & Training        English          English   \n",
       "4         Full-Time  Education & Training        English          English   \n",
       "\n",
       "                             Industry    Nationality     Sex Student Status  \n",
       "0  Primary/Secondary (K-12) Education  United States  Female            Yes  \n",
       "1  Primary/Secondary (K-12) Education  United States  Female             No  \n",
       "2  Primary/Secondary (K-12) Education  United States  Female            Yes  \n",
       "3  Primary/Secondary (K-12) Education  United States  Female            Yes  \n",
       "4  Primary/Secondary (K-12) Education  United States  Female             No  "
      ]
     },
     "execution_count": 3,
     "metadata": {},
     "output_type": "execute_result"
    }
   ],
   "source": [
    "data = data_raw.copy()\n",
    "print(data.shape)\n",
    "data.head()"
   ]
  },
  {
   "cell_type": "code",
   "execution_count": 4,
   "metadata": {},
   "outputs": [
    {
     "data": {
      "text/plain": [
       "Index(['session_id', 'participant_id', 'status', 'started_datetime',\n",
       "       'completed_date_time', 'time_taken', 'age', 'num_approvals',\n",
       "       'num_rejections', 'prolific_score', 'reviewed_at_datetime',\n",
       "       'entered_code', 'Country of Birth', 'Current Country of Residence',\n",
       "       'Employment Status', 'Employment-Sector', 'First Language',\n",
       "       'Fluent languages', 'Industry', 'Nationality', 'Sex', 'Student Status'],\n",
       "      dtype='object')"
      ]
     },
     "execution_count": 4,
     "metadata": {},
     "output_type": "execute_result"
    }
   ],
   "source": [
    "data.columns"
   ]
  },
  {
   "cell_type": "markdown",
   "metadata": {},
   "source": [
    "### Normalize column names"
   ]
  },
  {
   "cell_type": "code",
   "execution_count": 5,
   "metadata": {},
   "outputs": [],
   "source": [
    "data.columns = data.columns.str.lower()\n",
    "data.columns = data.columns.str.replace(' ', '_', regex=True)"
   ]
  },
  {
   "cell_type": "code",
   "execution_count": 6,
   "metadata": {},
   "outputs": [
    {
     "data": {
      "text/plain": [
       "Index(['session_id', 'participant_id', 'status', 'started_datetime',\n",
       "       'completed_date_time', 'time_taken', 'age', 'num_approvals',\n",
       "       'num_rejections', 'prolific_score', 'reviewed_at_datetime',\n",
       "       'entered_code', 'country_of_birth', 'current_country_of_residence',\n",
       "       'employment_status', 'employment-sector', 'first_language',\n",
       "       'fluent_languages', 'industry', 'nationality', 'sex', 'student_status'],\n",
       "      dtype='object')"
      ]
     },
     "execution_count": 6,
     "metadata": {},
     "output_type": "execute_result"
    }
   ],
   "source": [
    "data.columns"
   ]
  },
  {
   "cell_type": "markdown",
   "metadata": {},
   "source": [
    "### Filter only approved participants"
   ]
  },
  {
   "cell_type": "code",
   "execution_count": 7,
   "metadata": {},
   "outputs": [
    {
     "data": {
      "text/plain": [
       "(168, 22)"
      ]
     },
     "execution_count": 7,
     "metadata": {},
     "output_type": "execute_result"
    }
   ],
   "source": [
    "data = data[data.status == 'APPROVED']\n",
    "data.shape"
   ]
  },
  {
   "cell_type": "code",
   "execution_count": 8,
   "metadata": {},
   "outputs": [
    {
     "data": {
      "text/plain": [
       "Female          129\n",
       "Male             36\n",
       "DATA EXPIRED      3\n",
       "Name: sex, dtype: int64"
      ]
     },
     "execution_count": 8,
     "metadata": {},
     "output_type": "execute_result"
    }
   ],
   "source": [
    "data.sex.value_counts()"
   ]
  },
  {
   "cell_type": "markdown",
   "metadata": {},
   "source": [
    "### Average time spent"
   ]
  },
  {
   "cell_type": "code",
   "execution_count": 9,
   "metadata": {},
   "outputs": [
    {
     "data": {
      "text/plain": [
       "8.49970109126984"
      ]
     },
     "execution_count": 9,
     "metadata": {},
     "output_type": "execute_result"
    }
   ],
   "source": [
    "data.time_taken.mean() / 60"
   ]
  },
  {
   "cell_type": "code",
   "execution_count": 10,
   "metadata": {},
   "outputs": [
    {
     "data": {
      "text/plain": [
       "United States     163\n",
       "DATA EXPIRED        3\n",
       "Hungary             1\n",
       "United Kingdom      1\n",
       "Name: country_of_birth, dtype: int64"
      ]
     },
     "execution_count": 10,
     "metadata": {},
     "output_type": "execute_result"
    }
   ],
   "source": [
    "data.country_of_birth.value_counts()"
   ]
  },
  {
   "cell_type": "code",
   "execution_count": 11,
   "metadata": {},
   "outputs": [
    {
     "data": {
      "text/plain": [
       "English         157\n",
       "Chinese           3\n",
       "DATA EXPIRED      3\n",
       "Spanish           2\n",
       "Hungarian         1\n",
       "Thai              1\n",
       "Armenian          1\n",
       "Name: first_language, dtype: int64"
      ]
     },
     "execution_count": 11,
     "metadata": {},
     "output_type": "execute_result"
    }
   ],
   "source": [
    "data.first_language.value_counts()"
   ]
  },
  {
   "cell_type": "code",
   "execution_count": 12,
   "metadata": {},
   "outputs": [
    {
     "data": {
      "text/plain": [
       "No              109\n",
       "Yes              39\n",
       "DATA EXPIRED     20\n",
       "Name: student_status, dtype: int64"
      ]
     },
     "execution_count": 12,
     "metadata": {},
     "output_type": "execute_result"
    }
   ],
   "source": [
    "data.student_status.value_counts()"
   ]
  },
  {
   "cell_type": "code",
   "execution_count": 13,
   "metadata": {},
   "outputs": [
    {
     "data": {
      "text/plain": [
       "United States    165\n",
       "DATA EXPIRED       3\n",
       "Name: nationality, dtype: int64"
      ]
     },
     "execution_count": 13,
     "metadata": {},
     "output_type": "execute_result"
    }
   ],
   "source": [
    "data.nationality.value_counts()"
   ]
  },
  {
   "cell_type": "code",
   "execution_count": null,
   "metadata": {},
   "outputs": [],
   "source": []
  }
 ],
 "metadata": {
  "interpreter": {
   "hash": "eb10a070e82e7330121462b0ec6c8ff8b91d350e76f8db5f973ca9d0c5706fd9"
  },
  "kernelspec": {
   "display_name": "Python 3.7.6 64-bit",
   "name": "python3"
  },
  "language_info": {
   "codemirror_mode": {
    "name": "ipython",
    "version": 3
   },
   "file_extension": ".py",
   "mimetype": "text/x-python",
   "name": "python",
   "nbconvert_exporter": "python",
   "pygments_lexer": "ipython3",
   "version": "3.7.6"
  },
  "metadata": {
   "interpreter": {
    "hash": "eb10a070e82e7330121462b0ec6c8ff8b91d350e76f8db5f973ca9d0c5706fd9"
   }
  }
 },
 "nbformat": 4,
 "nbformat_minor": 2
}
