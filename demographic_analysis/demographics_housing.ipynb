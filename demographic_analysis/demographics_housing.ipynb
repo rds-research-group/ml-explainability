{
 "cells": [
  {
   "cell_type": "markdown",
   "source": [
    "# Demographic analysis housing"
   ],
   "metadata": {}
  },
  {
   "cell_type": "code",
   "execution_count": 2,
   "source": [
    "import pandas as pd\n",
    "import numpy as np\n",
    "import seaborn as sns\n",
    "\n",
    "from matplotlib import pyplot as plt\n",
    "%matplotlib inline\n",
    "\n",
    "pd.set_option('display.max_columns', None)\n",
    "pd.set_option('display.max_rows', None)"
   ],
   "outputs": [],
   "metadata": {}
  },
  {
   "cell_type": "code",
   "execution_count": 3,
   "source": [
    "data_raw = pd.read_csv('./data/prolific_export_housing.csv')"
   ],
   "outputs": [],
   "metadata": {}
  },
  {
   "cell_type": "code",
   "execution_count": 4,
   "source": [
    "data = data_raw.copy()\n",
    "print(data.shape)\n",
    "data.head()"
   ],
   "outputs": [
    {
     "output_type": "stream",
     "name": "stdout",
     "text": [
      "(132, 21)\n"
     ]
    },
    {
     "output_type": "execute_result",
     "data": {
      "text/plain": [
       "                 session_id            participant_id    status  \\\n",
       "0  6125c110e25b73c8d745fbd2  610827688c36871a5b12f9ca  APPROVED   \n",
       "1  6125c3f42a50845c44e9113f  61094e90bb5ea378f32617d5  APPROVED   \n",
       "2  6125c5e07f3871f78441b31a  611580c3f490b096b2fa8cfa  APPROVED   \n",
       "3  6125f2cdf3c535a7b4baf54c  60fcce22d78a9a58340d2260  APPROVED   \n",
       "4  6125f6eab5151424d6e86151  60e48bf26db92a299af63242  APPROVED   \n",
       "\n",
       "             started_datetime         completed_date_time  time_taken  age  \\\n",
       "0  2021-08-25 04:03:39.127000  2021-08-25 04:10:39.826000     420.699   21   \n",
       "1  2021-08-25 04:18:51.110000  2021-08-25 04:25:41.191000     410.081   22   \n",
       "2  2021-08-25 04:25:31.031000  2021-08-25 04:33:24.675000     473.644   22   \n",
       "3  2021-08-25 07:35:41.337000  2021-08-25 07:45:29.891000     588.554   33   \n",
       "4  2021-08-25 07:59:37.272000  2021-08-25 08:13:20.626000     823.354   31   \n",
       "\n",
       "   num_approvals  num_rejections  prolific_score        reviewed_at_datetime  \\\n",
       "0             42               1             100  2021-08-25 15:59:43.415000   \n",
       "1             63               0             100  2021-08-25 15:59:43.490000   \n",
       "2             82               1             100  2021-08-25 15:59:43.552000   \n",
       "3             49               1              99  2021-08-25 15:59:43.625000   \n",
       "4            225               0             100  2021-08-25 15:59:43.709000   \n",
       "\n",
       "  entered_code Country of Birth Current Country of Residence  \\\n",
       "0     9EC36FE2    United States                United States   \n",
       "1     9EC36FE2    United States                United States   \n",
       "2     9EC36FE2    United States                United States   \n",
       "3     9EC36FE2    United States                United States   \n",
       "4     9EC36FE2     DATA EXPIRED                United States   \n",
       "\n",
       "  Employment Status First Language Fluent languages  \\\n",
       "0         Part-Time        English          English   \n",
       "1         Full-Time        English          English   \n",
       "2         Part-Time        English          English   \n",
       "3         Full-Time        English          English   \n",
       "4         Full-Time        English          English   \n",
       "\n",
       "                         Industry    Nationality     Sex Student Status  \n",
       "0  Real Estate Rental and Leasing  United States  Female            Yes  \n",
       "1  Real Estate Rental and Leasing  United States  Female             No  \n",
       "2  Real Estate Rental and Leasing  United States    Male            Yes  \n",
       "3  Real Estate Rental and Leasing  United States  Female             No  \n",
       "4  Real Estate Rental and Leasing  United States  Female             No  "
      ],
      "text/html": [
       "<div>\n",
       "<style scoped>\n",
       "    .dataframe tbody tr th:only-of-type {\n",
       "        vertical-align: middle;\n",
       "    }\n",
       "\n",
       "    .dataframe tbody tr th {\n",
       "        vertical-align: top;\n",
       "    }\n",
       "\n",
       "    .dataframe thead th {\n",
       "        text-align: right;\n",
       "    }\n",
       "</style>\n",
       "<table border=\"1\" class=\"dataframe\">\n",
       "  <thead>\n",
       "    <tr style=\"text-align: right;\">\n",
       "      <th></th>\n",
       "      <th>session_id</th>\n",
       "      <th>participant_id</th>\n",
       "      <th>status</th>\n",
       "      <th>started_datetime</th>\n",
       "      <th>completed_date_time</th>\n",
       "      <th>time_taken</th>\n",
       "      <th>age</th>\n",
       "      <th>num_approvals</th>\n",
       "      <th>num_rejections</th>\n",
       "      <th>prolific_score</th>\n",
       "      <th>reviewed_at_datetime</th>\n",
       "      <th>entered_code</th>\n",
       "      <th>Country of Birth</th>\n",
       "      <th>Current Country of Residence</th>\n",
       "      <th>Employment Status</th>\n",
       "      <th>First Language</th>\n",
       "      <th>Fluent languages</th>\n",
       "      <th>Industry</th>\n",
       "      <th>Nationality</th>\n",
       "      <th>Sex</th>\n",
       "      <th>Student Status</th>\n",
       "    </tr>\n",
       "  </thead>\n",
       "  <tbody>\n",
       "    <tr>\n",
       "      <th>0</th>\n",
       "      <td>6125c110e25b73c8d745fbd2</td>\n",
       "      <td>610827688c36871a5b12f9ca</td>\n",
       "      <td>APPROVED</td>\n",
       "      <td>2021-08-25 04:03:39.127000</td>\n",
       "      <td>2021-08-25 04:10:39.826000</td>\n",
       "      <td>420.699</td>\n",
       "      <td>21</td>\n",
       "      <td>42</td>\n",
       "      <td>1</td>\n",
       "      <td>100</td>\n",
       "      <td>2021-08-25 15:59:43.415000</td>\n",
       "      <td>9EC36FE2</td>\n",
       "      <td>United States</td>\n",
       "      <td>United States</td>\n",
       "      <td>Part-Time</td>\n",
       "      <td>English</td>\n",
       "      <td>English</td>\n",
       "      <td>Real Estate Rental and Leasing</td>\n",
       "      <td>United States</td>\n",
       "      <td>Female</td>\n",
       "      <td>Yes</td>\n",
       "    </tr>\n",
       "    <tr>\n",
       "      <th>1</th>\n",
       "      <td>6125c3f42a50845c44e9113f</td>\n",
       "      <td>61094e90bb5ea378f32617d5</td>\n",
       "      <td>APPROVED</td>\n",
       "      <td>2021-08-25 04:18:51.110000</td>\n",
       "      <td>2021-08-25 04:25:41.191000</td>\n",
       "      <td>410.081</td>\n",
       "      <td>22</td>\n",
       "      <td>63</td>\n",
       "      <td>0</td>\n",
       "      <td>100</td>\n",
       "      <td>2021-08-25 15:59:43.490000</td>\n",
       "      <td>9EC36FE2</td>\n",
       "      <td>United States</td>\n",
       "      <td>United States</td>\n",
       "      <td>Full-Time</td>\n",
       "      <td>English</td>\n",
       "      <td>English</td>\n",
       "      <td>Real Estate Rental and Leasing</td>\n",
       "      <td>United States</td>\n",
       "      <td>Female</td>\n",
       "      <td>No</td>\n",
       "    </tr>\n",
       "    <tr>\n",
       "      <th>2</th>\n",
       "      <td>6125c5e07f3871f78441b31a</td>\n",
       "      <td>611580c3f490b096b2fa8cfa</td>\n",
       "      <td>APPROVED</td>\n",
       "      <td>2021-08-25 04:25:31.031000</td>\n",
       "      <td>2021-08-25 04:33:24.675000</td>\n",
       "      <td>473.644</td>\n",
       "      <td>22</td>\n",
       "      <td>82</td>\n",
       "      <td>1</td>\n",
       "      <td>100</td>\n",
       "      <td>2021-08-25 15:59:43.552000</td>\n",
       "      <td>9EC36FE2</td>\n",
       "      <td>United States</td>\n",
       "      <td>United States</td>\n",
       "      <td>Part-Time</td>\n",
       "      <td>English</td>\n",
       "      <td>English</td>\n",
       "      <td>Real Estate Rental and Leasing</td>\n",
       "      <td>United States</td>\n",
       "      <td>Male</td>\n",
       "      <td>Yes</td>\n",
       "    </tr>\n",
       "    <tr>\n",
       "      <th>3</th>\n",
       "      <td>6125f2cdf3c535a7b4baf54c</td>\n",
       "      <td>60fcce22d78a9a58340d2260</td>\n",
       "      <td>APPROVED</td>\n",
       "      <td>2021-08-25 07:35:41.337000</td>\n",
       "      <td>2021-08-25 07:45:29.891000</td>\n",
       "      <td>588.554</td>\n",
       "      <td>33</td>\n",
       "      <td>49</td>\n",
       "      <td>1</td>\n",
       "      <td>99</td>\n",
       "      <td>2021-08-25 15:59:43.625000</td>\n",
       "      <td>9EC36FE2</td>\n",
       "      <td>United States</td>\n",
       "      <td>United States</td>\n",
       "      <td>Full-Time</td>\n",
       "      <td>English</td>\n",
       "      <td>English</td>\n",
       "      <td>Real Estate Rental and Leasing</td>\n",
       "      <td>United States</td>\n",
       "      <td>Female</td>\n",
       "      <td>No</td>\n",
       "    </tr>\n",
       "    <tr>\n",
       "      <th>4</th>\n",
       "      <td>6125f6eab5151424d6e86151</td>\n",
       "      <td>60e48bf26db92a299af63242</td>\n",
       "      <td>APPROVED</td>\n",
       "      <td>2021-08-25 07:59:37.272000</td>\n",
       "      <td>2021-08-25 08:13:20.626000</td>\n",
       "      <td>823.354</td>\n",
       "      <td>31</td>\n",
       "      <td>225</td>\n",
       "      <td>0</td>\n",
       "      <td>100</td>\n",
       "      <td>2021-08-25 15:59:43.709000</td>\n",
       "      <td>9EC36FE2</td>\n",
       "      <td>DATA EXPIRED</td>\n",
       "      <td>United States</td>\n",
       "      <td>Full-Time</td>\n",
       "      <td>English</td>\n",
       "      <td>English</td>\n",
       "      <td>Real Estate Rental and Leasing</td>\n",
       "      <td>United States</td>\n",
       "      <td>Female</td>\n",
       "      <td>No</td>\n",
       "    </tr>\n",
       "  </tbody>\n",
       "</table>\n",
       "</div>"
      ]
     },
     "metadata": {},
     "execution_count": 4
    }
   ],
   "metadata": {}
  },
  {
   "cell_type": "code",
   "execution_count": 5,
   "source": [
    "data.columns"
   ],
   "outputs": [
    {
     "output_type": "execute_result",
     "data": {
      "text/plain": [
       "Index(['session_id', 'participant_id', 'status', 'started_datetime',\n",
       "       'completed_date_time', 'time_taken', 'age', 'num_approvals',\n",
       "       'num_rejections', 'prolific_score', 'reviewed_at_datetime',\n",
       "       'entered_code', 'Country of Birth', 'Current Country of Residence',\n",
       "       'Employment Status', 'First Language', 'Fluent languages', 'Industry',\n",
       "       'Nationality', 'Sex', 'Student Status'],\n",
       "      dtype='object')"
      ]
     },
     "metadata": {},
     "execution_count": 5
    }
   ],
   "metadata": {}
  },
  {
   "cell_type": "markdown",
   "source": [
    "### Normalize column names"
   ],
   "metadata": {}
  },
  {
   "cell_type": "code",
   "execution_count": 6,
   "source": [
    "data.columns = data.columns.str.lower()\n",
    "data.columns = data.columns.str.replace(' ', '_', regex=True)"
   ],
   "outputs": [],
   "metadata": {}
  },
  {
   "cell_type": "code",
   "execution_count": 7,
   "source": [
    "data.columns"
   ],
   "outputs": [
    {
     "output_type": "execute_result",
     "data": {
      "text/plain": [
       "Index(['session_id', 'participant_id', 'status', 'started_datetime',\n",
       "       'completed_date_time', 'time_taken', 'age', 'num_approvals',\n",
       "       'num_rejections', 'prolific_score', 'reviewed_at_datetime',\n",
       "       'entered_code', 'country_of_birth', 'current_country_of_residence',\n",
       "       'employment_status', 'first_language', 'fluent_languages', 'industry',\n",
       "       'nationality', 'sex', 'student_status'],\n",
       "      dtype='object')"
      ]
     },
     "metadata": {},
     "execution_count": 7
    }
   ],
   "metadata": {}
  },
  {
   "cell_type": "markdown",
   "source": [
    "### Filter only approved participants"
   ],
   "metadata": {}
  },
  {
   "cell_type": "code",
   "execution_count": 8,
   "source": [
    "data = data[data.status == 'APPROVED']\n",
    "data.shape"
   ],
   "outputs": [
    {
     "output_type": "execute_result",
     "data": {
      "text/plain": [
       "(108, 21)"
      ]
     },
     "metadata": {},
     "execution_count": 8
    }
   ],
   "metadata": {}
  },
  {
   "cell_type": "markdown",
   "source": [
    "### Sex count"
   ],
   "metadata": {}
  },
  {
   "cell_type": "code",
   "execution_count": 9,
   "source": [
    "data.sex.value_counts()"
   ],
   "outputs": [
    {
     "output_type": "execute_result",
     "data": {
      "text/plain": [
       "Female    79\n",
       "Male      29\n",
       "Name: sex, dtype: int64"
      ]
     },
     "metadata": {},
     "execution_count": 9
    }
   ],
   "metadata": {}
  },
  {
   "cell_type": "markdown",
   "source": [
    "### Average time spent"
   ],
   "metadata": {}
  },
  {
   "cell_type": "code",
   "execution_count": 10,
   "source": [
    "data.time_taken.mean() / 60"
   ],
   "outputs": [
    {
     "output_type": "execute_result",
     "data": {
      "text/plain": [
       "10.207075308641976"
      ]
     },
     "metadata": {},
     "execution_count": 10
    }
   ],
   "metadata": {}
  },
  {
   "cell_type": "code",
   "execution_count": 11,
   "source": [
    "data.country_of_birth.value_counts()"
   ],
   "outputs": [
    {
     "output_type": "execute_result",
     "data": {
      "text/plain": [
       "United States                        101\n",
       "Northern Mariana Islands               1\n",
       "Hong Kong                              1\n",
       "Israel                                 1\n",
       "Venezuela, Bolivarian Republic of      1\n",
       "DATA EXPIRED                           1\n",
       "Finland                                1\n",
       "Brazil                                 1\n",
       "Name: country_of_birth, dtype: int64"
      ]
     },
     "metadata": {},
     "execution_count": 11
    }
   ],
   "metadata": {}
  },
  {
   "cell_type": "code",
   "execution_count": 12,
   "source": [
    "data.first_language.value_counts()"
   ],
   "outputs": [
    {
     "output_type": "execute_result",
     "data": {
      "text/plain": [
       "English       101\n",
       "Chinese         3\n",
       "Spanish         2\n",
       "Portuguese      1\n",
       "Lithuanian      1\n",
       "Name: first_language, dtype: int64"
      ]
     },
     "metadata": {},
     "execution_count": 12
    }
   ],
   "metadata": {}
  },
  {
   "cell_type": "code",
   "execution_count": 13,
   "source": [
    "data.student_status.value_counts()"
   ],
   "outputs": [
    {
     "output_type": "execute_result",
     "data": {
      "text/plain": [
       "No              80\n",
       "Yes             21\n",
       "DATA EXPIRED     7\n",
       "Name: student_status, dtype: int64"
      ]
     },
     "metadata": {},
     "execution_count": 13
    }
   ],
   "metadata": {}
  },
  {
   "cell_type": "code",
   "execution_count": 14,
   "source": [
    "data.nationality.value_counts()"
   ],
   "outputs": [
    {
     "output_type": "execute_result",
     "data": {
      "text/plain": [
       "United States    108\n",
       "Name: nationality, dtype: int64"
      ]
     },
     "metadata": {},
     "execution_count": 14
    }
   ],
   "metadata": {}
  }
 ],
 "metadata": {
  "kernelspec": {
   "name": "python3",
   "display_name": "Python 3.7.6 64-bit"
  },
  "language_info": {
   "codemirror_mode": {
    "name": "ipython",
    "version": 3
   },
   "file_extension": ".py",
   "mimetype": "text/x-python",
   "name": "python",
   "nbconvert_exporter": "python",
   "pygments_lexer": "ipython3",
   "version": "3.7.6"
  },
  "metadata": {
   "interpreter": {
    "hash": "eb10a070e82e7330121462b0ec6c8ff8b91d350e76f8db5f973ca9d0c5706fd9"
   }
  },
  "interpreter": {
   "hash": "eb10a070e82e7330121462b0ec6c8ff8b91d350e76f8db5f973ca9d0c5706fd9"
  }
 },
 "nbformat": 4,
 "nbformat_minor": 2
}