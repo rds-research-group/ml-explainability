{
 "cells": [
  {
   "cell_type": "code",
   "execution_count": null,
   "id": "f1f360bb",
   "metadata": {},
   "outputs": [],
   "source": [
    "import pandas as pd\n",
    "import numpy as np\n",
    "import seaborn as sns\n",
    "import math\n",
    "\n",
    "from matplotlib import pyplot as plt\n",
    "%matplotlib inline\n",
    "\n",
    "pd.set_option('display.max_columns', None)\n",
    "pd.set_option('display.max_rows', None)\n",
    "\n",
    "pd.set_option('display.float_format', lambda x: '%.3f' % x)\n",
    "\n",
    "import warnings\n",
    "warnings.filterwarnings('ignore')"
   ]
  },
  {
   "cell_type": "code",
   "execution_count": null,
   "id": "838f2271",
   "metadata": {},
   "outputs": [],
   "source": [
    "data_raw = pd.read_excel(\"data/default of credit card clients.xls\",header=1)"
   ]
  },
  {
   "cell_type": "code",
   "execution_count": null,
   "id": "410a155d",
   "metadata": {},
   "outputs": [],
   "source": [
    "data = data_raw.copy()\n",
    "print(data.shape)\n",
    "data.head(50)"
   ]
  },
  {
   "cell_type": "markdown",
   "id": "69816f97",
   "metadata": {},
   "source": [
    "## Check for missingness"
   ]
  },
  {
   "cell_type": "code",
   "execution_count": null,
   "id": "70441003",
   "metadata": {},
   "outputs": [],
   "source": [
    "data.isnull().sum()"
   ]
  },
  {
   "cell_type": "code",
   "execution_count": null,
   "id": "1f196557",
   "metadata": {},
   "outputs": [],
   "source": [
    "data.describe()"
   ]
  },
  {
   "cell_type": "code",
   "execution_count": null,
   "id": "ba4a5710",
   "metadata": {},
   "outputs": [],
   "source": [
    "sns.histplot(data['default payment next month'])"
   ]
  },
  {
   "cell_type": "code",
   "execution_count": null,
   "id": "707d149f",
   "metadata": {
    "scrolled": true
   },
   "outputs": [],
   "source": [
    "sns.distplot(data.AGE)\n",
    "\n",
    "# There are some strange spikes around the decade intervals"
   ]
  },
  {
   "cell_type": "code",
   "execution_count": null,
   "id": "51d1aa61",
   "metadata": {},
   "outputs": [],
   "source": [
    "# data dictionary: https://archive.ics.uci.edu/ml/datasets/default+of+credit+card+clients#"
   ]
  },
  {
   "cell_type": "code",
   "execution_count": null,
   "id": "0aceeabb",
   "metadata": {},
   "outputs": [],
   "source": [
    "sex = {1: \"male\", 2: \"female\"}\n",
    "marital_status = {1: \"married\", 2: \"single\", 3: \"other\", 0: \"0?\"}\n",
    "education = {1: \"graduate_school\", 2: \"unversity\", 3: \"high_school\", 4: \"other\", 5: \"5?\", 6: \"6?\", 0: \"?\"}\n"
   ]
  },
  {
   "cell_type": "code",
   "execution_count": null,
   "id": "cda411c7",
   "metadata": {},
   "outputs": [],
   "source": [
    "sns.histplot(data.SEX.replace(sex))"
   ]
  },
  {
   "cell_type": "code",
   "execution_count": null,
   "id": "427d9942",
   "metadata": {},
   "outputs": [],
   "source": [
    "sns.histplot(data.MARRIAGE.replace(marital_status).astype(str))"
   ]
  },
  {
   "cell_type": "code",
   "execution_count": null,
   "id": "a5486f14",
   "metadata": {},
   "outputs": [],
   "source": [
    "sns.histplot(data.EDUCATION.replace(education).astype(str))\n",
    "plt.xticks(rotation=45)"
   ]
  },
  {
   "cell_type": "markdown",
   "id": "1fa123d7",
   "metadata": {},
   "source": [
    "## Check bill variables"
   ]
  },
  {
   "cell_type": "code",
   "execution_count": null,
   "id": "17e3fd53",
   "metadata": {},
   "outputs": [],
   "source": [
    "# Variables PAY_0 to PAY_6 represent the payment status for the months\n",
    "# from April to September 2005\n",
    "# They use the following coding schema:\n",
    "# -2 = no bill (deduced)\n",
    "# -1 = duly paid\n",
    "# n = payment dealy for n months"
   ]
  },
  {
   "cell_type": "code",
   "execution_count": null,
   "id": "0f382214",
   "metadata": {},
   "outputs": [],
   "source": [
    "temp = data.filter(items=['PAY_0','PAY_2','PAY_3','PAY_4','PAY_5','PAY_6'])\n",
    "sns.catplot(x=\"variable\", y=\"value\",\n",
    "            kind=\"boxen\", data=pd.melt(temp))\n",
    "#plt.show()"
   ]
  },
  {
   "cell_type": "code",
   "execution_count": null,
   "id": "f8b29d58",
   "metadata": {},
   "outputs": [],
   "source": [
    "sns.histplot(data.PAY_0.astype(str))"
   ]
  },
  {
   "cell_type": "code",
   "execution_count": null,
   "id": "a57f616f",
   "metadata": {},
   "outputs": [],
   "source": [
    "# Strangely, there is no PAY_1 variable"
   ]
  },
  {
   "cell_type": "code",
   "execution_count": null,
   "id": "d5034537",
   "metadata": {},
   "outputs": [],
   "source": [
    "# Bill amounts\n",
    "temp = data.filter(items=['BILL_AMT1','BILL_AMT2','BILL_AMT3','BILL_AMT4','BILL_AMT5','BILL_AMT6'])\n",
    "sns.catplot(x=\"variable\", y=\"value\",\n",
    "            kind=\"violin\", data=pd.melt(temp))\n",
    "plt.ticklabel_format(style='plain', axis='y')\n",
    "#plt.show()"
   ]
  },
  {
   "cell_type": "code",
   "execution_count": null,
   "id": "61b84b88",
   "metadata": {},
   "outputs": [],
   "source": [
    "sns.distplot(data.BILL_AMT1)\n",
    "plt.ticklabel_format(style='plain', axis='x')"
   ]
  },
  {
   "cell_type": "code",
   "execution_count": null,
   "id": "2e78162f",
   "metadata": {},
   "outputs": [],
   "source": [
    "# Zoomed in on the range [0,100000]\n",
    "bill_vars = ['BILL_AMT1','BILL_AMT2','BILL_AMT3','BILL_AMT4','BILL_AMT5','BILL_AMT6']\n",
    "temp = data.filter(items=bill_vars)\n",
    "q = \"\"\n",
    "for i in range(0,len(bill_vars)):\n",
    "    q = q + \"0<=\" + bill_vars[i] + \"<=100000\"\n",
    "    if i <= len(bill_vars)-2:\n",
    "        q = q + \" and \"\n",
    "temp = temp.query(q)\n",
    "sns.catplot(x=\"variable\", y=\"value\",\n",
    "            kind=\"violin\", data=pd.melt(temp))\n",
    "plt.ticklabel_format(style='plain', axis='y')"
   ]
  },
  {
   "cell_type": "code",
   "execution_count": null,
   "id": "004a6fda",
   "metadata": {},
   "outputs": [],
   "source": [
    "# Inspect negative bills\n",
    "bill_vars = ['BILL_AMT1','BILL_AMT2','BILL_AMT3','BILL_AMT4','BILL_AMT5','BILL_AMT6']\n",
    "temp = data.filter(items=bill_vars)\n",
    "q = \"\"\n",
    "for i in range(0,len(bill_vars)):\n",
    "    q = q + \"\" + bill_vars[i] + \"<0\"\n",
    "    if i <= len(bill_vars)-2:\n",
    "        q = q + \" and \"\n",
    "temp = temp.query(q)\n",
    "sns.catplot(x=\"variable\", y=\"value\",\n",
    "            kind=\"boxen\", data=pd.melt(temp))\n",
    "plt.ticklabel_format(style='plain', axis='y')"
   ]
  },
  {
   "cell_type": "code",
   "execution_count": null,
   "id": "700d80ae",
   "metadata": {},
   "outputs": [],
   "source": [
    "# Number of negative bills\n",
    "print(\"Count, mean of negative bills\")\n",
    "bill_vars = ['BILL_AMT1','BILL_AMT2','BILL_AMT3','BILL_AMT4','BILL_AMT5','BILL_AMT6']\n",
    "for b in bill_vars:\n",
    "    print(b, data.loc[data[b]<0].shape[0], data.loc[data[b]<0][b].mean())"
   ]
  },
  {
   "cell_type": "code",
   "execution_count": null,
   "id": "95c9a503",
   "metadata": {},
   "outputs": [],
   "source": [
    "# Payment amounts\n",
    "payment_vars = ['PAY_AMT1','PAY_AMT2','PAY_AMT3', 'PAY_AMT4', 'PAY_AMT5', 'PAY_AMT6']\n",
    "temp = data.filter(items=payment_vars)\n",
    "sns.catplot(x=\"variable\", y=\"value\",\n",
    "            kind=\"violin\", data=pd.melt(temp))\n",
    "plt.ticklabel_format(style='plain', axis='y')\n",
    "#plt.show()"
   ]
  },
  {
   "cell_type": "code",
   "execution_count": null,
   "id": "a9b07a11",
   "metadata": {},
   "outputs": [],
   "source": [
    "# Zoomed in on the range [0,k]\n",
    "k=15000\n",
    "payment_vars = ['PAY_AMT1','PAY_AMT2','PAY_AMT3', 'PAY_AMT4', 'PAY_AMT5', 'PAY_AMT6']\n",
    "temp = data.filter(items=payment_vars)\n",
    "q = \"\"\n",
    "for i in range(0,len(payment_vars)):\n",
    "    q = q + \"0<=\" + payment_vars[i] + \"<=\" + str(k)\n",
    "    if i <= len(payment_vars)-2:\n",
    "        q = q + \" and \"\n",
    "temp = temp.query(q)\n",
    "sns.catplot(x=\"variable\", y=\"value\",\n",
    "            kind=\"violin\", data=pd.melt(temp))\n",
    "plt.ticklabel_format(style='plain', axis='y')"
   ]
  },
  {
   "cell_type": "code",
   "execution_count": null,
   "id": "dbc2177d",
   "metadata": {},
   "outputs": [],
   "source": [
    "# Logical check for cases where bill paid is more than bill amount\n",
    "bill_vars = ['BILL_AMT1','BILL_AMT2','BILL_AMT3','BILL_AMT4','BILL_AMT5','BILL_AMT6']\n",
    "payment_vars = ['PAY_AMT1','PAY_AMT2','PAY_AMT3', 'PAY_AMT4', 'PAY_AMT5', 'PAY_AMT6']\n",
    "for i in range(0,len(bill_vars)):\n",
    "    print(bill_vars[i], payment_vars[i], data.loc[data[bill_vars[i]] < data[payment_vars[i]]].shape[0])"
   ]
  },
  {
   "cell_type": "markdown",
   "id": "84627633",
   "metadata": {},
   "source": [
    "# Feature engineering"
   ]
  },
  {
   "cell_type": "code",
   "execution_count": null,
   "id": "c2732d58",
   "metadata": {},
   "outputs": [],
   "source": [
    "# Categorize age\n",
    "def categorize_age(x):\n",
    "    if 16 <= x <= 25:\n",
    "        return \"16_25\"\n",
    "    elif 26 <= x <= 35:\n",
    "        return \"26_35\"\n",
    "    elif 36 <= x <= 45:\n",
    "        return \"36_45\"\n",
    "    elif 46 <= x <= 55:\n",
    "        return \"46_55\"\n",
    "    elif x >= 56:\n",
    "        return \"56_xx\"\n",
    "    else:\n",
    "        return \"na\"\n",
    "    \n",
    "# Encode late payments\n",
    "def encode_late_payments(x):\n",
    "    if x == -2:\n",
    "        pass # This signifies no bill and will be coded as a binary\n",
    "    if x == -1:\n",
    "        pass # This signifies the bill is duly paid\n",
    "    if x >= 0:\n",
    "        return x\n",
    "\n",
    "def sum_late_months(x):\n",
    "    late_vars = ['PAY_0','PAY_2','PAY_3','PAY_4','PAY_5','PAY_6']\n",
    "    s = 0\n",
    "    for l in late_vars:\n",
    "        if x[l] >= 0:\n",
    "            s += x[l]\n",
    "    return s\n",
    "\n",
    "def sum_duly_paid(x):\n",
    "    late_vars = ['PAY_0','PAY_2','PAY_3','PAY_4','PAY_5','PAY_6']\n",
    "    s = 0\n",
    "    for l in late_vars:\n",
    "        if x[l] == -1:\n",
    "            s += 1\n",
    "    return s\n",
    "\n",
    "def sum_no_bill(x):\n",
    "    late_vars = ['PAY_0','PAY_2','PAY_3','PAY_4','PAY_5','PAY_6']\n",
    "    s = 0\n",
    "    for l in late_vars:\n",
    "        if x[l] == -2:\n",
    "            s += 1\n",
    "    return s\n",
    "\n",
    "def sum_bill_amounts(x):\n",
    "    bill_vars = ['BILL_AMT1','BILL_AMT2','BILL_AMT3','BILL_AMT4','BILL_AMT5','BILL_AMT6']\n",
    "    s = 0\n",
    "    for b in bill_vars:\n",
    "        s += x[b]\n",
    "    return s\n",
    "\n",
    "def sum_neg_bills(x):\n",
    "    bill_vars = ['BILL_AMT1','BILL_AMT2','BILL_AMT3','BILL_AMT4','BILL_AMT5','BILL_AMT6']\n",
    "    s = 0\n",
    "    for b in bill_vars:\n",
    "        if x[b] < 0:\n",
    "            s += 1\n",
    "    return s\n",
    "\n",
    "def sum_payment_amounts(x):\n",
    "    payment_vars = ['PAY_AMT1','PAY_AMT2','PAY_AMT3', 'PAY_AMT4', 'PAY_AMT5', 'PAY_AMT6']\n",
    "    s = 0\n",
    "    for p in payment_vars:\n",
    "        s += x[p]\n",
    "    return s"
   ]
  },
  {
   "cell_type": "code",
   "execution_count": null,
   "id": "52260d16",
   "metadata": {},
   "outputs": [],
   "source": [
    "X = pd.DataFrame()\n",
    "\n",
    "# Continuous variables\n",
    "X['credit_limit'] = data['LIMIT_BAL']\n",
    "X['age'] = data['AGE']\n",
    "\n",
    "# Binary variables\n",
    "X['is_male'] = data['SEX'].apply(lambda x: 1 if x == 1 else 0)\n",
    "\n",
    "# One-hot encoded\n",
    "# Age\n",
    "age_one_hot = pd.get_dummies(data['AGE'].apply(categorize_age),drop_first=True)\n",
    "X = pd.merge(X,age_one_hot.add_prefix('age_'), how='left',left_index=True, right_index=True)\n",
    "\n",
    "# Marriage\n",
    "marital_status = {1: \"married\", 2: \"single\", 3: \"other\", 0: \"na_0\"}\n",
    "marriage_one_hot = pd.get_dummies(data['MARRIAGE'].replace(marital_status),drop_first=True)\n",
    "X = pd.merge(X,marriage_one_hot.add_prefix('marriage_'), how='left',left_index=True, right_index=True)\n",
    "\n",
    "# Education\n",
    "education = {1: \"graduate_school\", 2: \"unversity\", 3: \"high_school\", 4: \"other\", 5: \"na_5\", 6: \"na_6\", 0: \"na_0\"}\n",
    "education_one_hot = pd.get_dummies(data['EDUCATION'].replace(education),drop_first=True)\n",
    "X = pd.merge(X,education_one_hot.add_prefix('education_'), how='left',left_index=True, right_index=True)\n",
    "\n",
    "# Bill late status\n",
    "late_vars = ['PAY_0','PAY_2','PAY_3','PAY_4','PAY_5','PAY_6']\n",
    "late_month_mapping = {\n",
    "    'PAY_0': 'sep',\n",
    "    'PAY_2': 'aug',\n",
    "    'PAY_3': 'jul',\n",
    "    'PAY_4': 'jun',\n",
    "    'PAY_5': 'may',\n",
    "    'PAY_6': 'apr'\n",
    "}\n",
    "\n",
    "for l in late_vars:\n",
    "    X[late_month_mapping[l] + '_months_late'] = data[l]\n",
    "    X[late_month_mapping[l] + '_duly_paid'] = data[l].apply(lambda x: 1 if x == -1 else 0)\n",
    "    X[late_month_mapping[l] + '_no_bill'] = data[l].apply(lambda x: 1 if x == -2 else 0)\n",
    "\n",
    "X['total_months_late'] = data.apply(sum_late_months, axis = 1)\n",
    "X['total_duly_paid'] = data.apply(sum_duly_paid, axis = 1)\n",
    "X['total_no_bill'] = data.apply(sum_no_bill, axis = 1)\n",
    "\n",
    "# Bill amounts\n",
    "bill_vars = ['BILL_AMT1','BILL_AMT2','BILL_AMT3','BILL_AMT4','BILL_AMT5','BILL_AMT6']\n",
    "bill_month_mapping = {\n",
    "    'BILL_AMT1': 'sep',\n",
    "    'BILL_AMT2': 'aug',\n",
    "    'BILL_AMT3': 'jul',\n",
    "    'BILL_AMT4': 'jun',\n",
    "    'BILL_AMT5': 'may',\n",
    "    'BILL_AMT6': 'apr'\n",
    "}\n",
    "for b in bill_vars:\n",
    "    X[bill_month_mapping[b] + '_bill_amount'] = data[b]\n",
    "    # Negative bills?\n",
    "    X[bill_month_mapping[b] + '_neg_bill'] = data[b].apply(lambda x: 1 if x < 0 else 0)\n",
    "    \n",
    "X['total_bill_amount'] = data.apply(sum_bill_amounts, axis=1)\n",
    "X['total_neg_bills'] = data.apply(sum_neg_bills, axis=1)\n",
    "\n",
    "# Paymount amounts\n",
    "payment_vars = ['PAY_AMT1','PAY_AMT2','PAY_AMT3', 'PAY_AMT4', 'PAY_AMT5', 'PAY_AMT6']\n",
    "payment_month_mapping = {\n",
    "    'PAY_AMT1': 'sep',\n",
    "    'PAY_AMT2': 'aug',\n",
    "    'PAY_AMT3': 'jul',\n",
    "    'PAY_AMT4': 'jun',\n",
    "    'PAY_AMT5': 'may',\n",
    "    'PAY_AMT6': 'apr'\n",
    "}\n",
    "for p in payment_vars:\n",
    "    X[payment_month_mapping[p] + '_payment_amount'] = data[p]\n",
    "    # Negative bills?\n",
    "    \n",
    "X['total_payment_amount'] = data.apply(sum_payment_amounts, axis=1)\n",
    "\n",
    "X.head()"
   ]
  },
  {
   "cell_type": "code",
   "execution_count": null,
   "id": "59d8b5d3",
   "metadata": {},
   "outputs": [],
   "source": [
    "X.shape"
   ]
  },
  {
   "cell_type": "markdown",
   "id": "1c69d29b",
   "metadata": {},
   "source": [
    "## Target"
   ]
  },
  {
   "cell_type": "code",
   "execution_count": null,
   "id": "9cdf88a0",
   "metadata": {},
   "outputs": [],
   "source": [
    "y = data['default payment next month']"
   ]
  },
  {
   "cell_type": "markdown",
   "id": "5500d2f4",
   "metadata": {},
   "source": [
    "## Save"
   ]
  },
  {
   "cell_type": "code",
   "execution_count": null,
   "id": "75ff85fe",
   "metadata": {},
   "outputs": [],
   "source": [
    "# Save the csvs\n",
    "X.to_csv(\"matrices/loans/X.csv\")\n",
    "y.to_csv(\"matrices/loans/y.csv\")"
   ]
  }
 ],
 "metadata": {
  "kernelspec": {
   "display_name": "Python 3",
   "language": "python",
   "name": "python3"
  },
  "language_info": {
   "codemirror_mode": {
    "name": "ipython",
    "version": 3
   },
   "file_extension": ".py",
   "mimetype": "text/x-python",
   "name": "python",
   "nbconvert_exporter": "python",
   "pygments_lexer": "ipython3",
   "version": "3.9.3"
  }
 },
 "nbformat": 4,
 "nbformat_minor": 5
}
