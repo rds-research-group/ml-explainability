{
 "cells": [
  {
   "cell_type": "code",
   "execution_count": null,
   "id": "2e14e128",
   "metadata": {},
   "outputs": [],
   "source": [
    "import pandas as pd\n",
    "import numpy as np\n",
    "\n",
    "import seaborn as sns\n",
    "\n",
    "import datetime\n",
    "\n",
    "pd.set_option('display.max_colwidth', None)\n",
    "pd.set_option('display.max_columns', None)\n",
    "pd.set_option('display.max_rows', None)\n",
    "\n",
    "import warnings\n",
    "warnings.filterwarnings('ignore')"
   ]
  },
  {
   "cell_type": "markdown",
   "id": "fdf83b57",
   "metadata": {},
   "source": [
    "# Survey figures"
   ]
  },
  {
   "cell_type": "code",
   "execution_count": null,
   "id": "c437ddbd",
   "metadata": {},
   "outputs": [],
   "source": [
    "data_raw = pd.read_csv('analysis/analysis_data.csv')\n",
    "data = data_raw.copy()\n",
    "print(data.shape)\n",
    "data.head()"
   ]
  },
  {
   "cell_type": "code",
   "execution_count": null,
   "id": "9652c591",
   "metadata": {},
   "outputs": [],
   "source": [
    "def convert_to_photoshoot_names(x):\n",
    "    if x == 'lr':\n",
    "        return \"Linear Regression\"\n",
    "    if x == 'dt':\n",
    "        return \"Decision Tree\"\n",
    "    if x == 'no_shap':\n",
    "        return \"Black-box model\"\n",
    "    if x == 'shap':\n",
    "        return \"Black-box model (with SHAP)\"\n",
    "    if x == 'education':\n",
    "        return \"Education\"\n",
    "    if x == 'housing':\n",
    "        return \"Housing\""
   ]
  },
  {
   "cell_type": "code",
   "execution_count": null,
   "id": "9990104d",
   "metadata": {},
   "outputs": [],
   "source": [
    "temp1 = data.filter(items=['dataset_name','int_model','understood_system_int']).rename(columns={'int_model':'model',\n",
    "                                                                             'understood_system_int':'understood_system'})\n",
    "temp2 = data.filter(items=['dataset_name','bb_model','understood_system_bb']).rename(columns={'bb_model':'model',\n",
    "                                                                           'understood_system_bb':'understood_system'})\n",
    "temp = temp1.append(temp2)\n",
    "temp['model'] = temp['model'].apply(convert_to_photoshoot_names)\n",
    "temp['dataset_name'] = temp['dataset_name'].apply(convert_to_photoshoot_names)\n",
    "Understood_System_Data = temp.rename(columns={'dataset_name': \"Domain\",\n",
    "                                              'model': \"Model\",\n",
    "                                              'understood_system': \"Understood System\"})"
   ]
  },
  {
   "cell_type": "code",
   "execution_count": null,
   "id": "8c5f1a85",
   "metadata": {},
   "outputs": [],
   "source": [
    "ax = sns.boxplot(x=\"Understood System\", y=\"Model\", hue=\"Domain\", data=Understood_System_Data, orient=\"h\", palette=\"Set2\")\n",
    "ax.legend(bbox_to_anchor=(1.02, 1), loc='upper left', borderaxespad=0, title=\"Domain\")"
   ]
  },
  {
   "cell_type": "code",
   "execution_count": null,
   "id": "e5fdac1b",
   "metadata": {},
   "outputs": [],
   "source": [
    "temp1 = data.filter(items=['dataset_name','int_model','system_confusing_int']).rename(columns={'int_model':'model',\n",
    "                                                                                               'system_confusing_int':'system_confusing'})\n",
    "temp2 = data.filter(items=['dataset_name','bb_model','system_confusing_bb']).rename(columns={'bb_model':'model',\n",
    "                                                                                             'system_confusing_bb':'system_confusing'})\n",
    "temp = temp1.append(temp2)\n",
    "temp['model'] = temp['model'].apply(convert_to_photoshoot_names)\n",
    "temp['dataset_name'] = temp['dataset_name'].apply(convert_to_photoshoot_names)\n",
    "System_Confusing_Data = temp.rename(columns={'dataset_name': \"Domain\",\n",
    "                                              'model': \"Model\",\n",
    "                                              'system_confusing': \"System Confusing\"})"
   ]
  },
  {
   "cell_type": "code",
   "execution_count": null,
   "id": "e532ff84",
   "metadata": {},
   "outputs": [],
   "source": [
    "ax = sns.boxplot(x=\"System Confusing\", y=\"Model\", hue=\"Domain\", data=System_Confusing_Data, orient=\"h\", palette=\"Set2\")\n",
    "ax.legend(bbox_to_anchor=(1.02, 1), loc='upper left', borderaxespad=0, title=\"Domain\")"
   ]
  },
  {
   "cell_type": "code",
   "execution_count": null,
   "id": "525f6920",
   "metadata": {},
   "outputs": [],
   "source": [
    "edu_data = data[data['dataset_name']==\"education\"]\n",
    "hous_data = data[data['dataset_name']==\"housing\"]\n",
    "means = [['Education','dt', edu_data[edu_data['int_model']=='dt'].q1_is_correct_int.mean()],\n",
    "         ['Education','lr', edu_data[edu_data['int_model']=='lr'].q1_is_correct_int.mean()],\n",
    "         ['Education','shap', edu_data[edu_data['bb_model']=='shap'].q1_is_correct_bb.mean()],\n",
    "         ['Education','no_shap', edu_data[edu_data['bb_model']=='no_shap'].q1_is_correct_bb.mean()],\n",
    "         ['Housing','dt', hous_data[hous_data['int_model']=='dt'].q1_is_correct_int.mean()],\n",
    "         ['Housing','lr', hous_data[hous_data['int_model']=='lr'].q1_is_correct_int.mean()],\n",
    "         ['Housing','shap', hous_data[hous_data['bb_model']=='shap'].q1_is_correct_bb.mean()],\n",
    "         ['Housing','no_shap', hous_data[hous_data['bb_model']=='no_shap'].q1_is_correct_bb.mean()]]\n",
    "    \n",
    "Task_1_Performance_Data = pd.DataFrame(means, columns =['Domain','Model', 'Task 1 Performance (% correct)'])\n",
    "Task_1_Performance_Data['Model'] = Task_1_Performance_Data['Model'].apply(convert_to_photoshoot_names)"
   ]
  },
  {
   "cell_type": "code",
   "execution_count": null,
   "id": "f7727aee",
   "metadata": {},
   "outputs": [],
   "source": [
    "ax = sns.barplot(x=\"Task 1 Performance (% correct)\", y=\"Model\", hue=\"Domain\",data=Task_1_Performance_Data, orient=\"h\", palette=\"Set2\")\n",
    "ax.legend(bbox_to_anchor=(1.02, 1), loc='upper left', borderaxespad=0, title=\"Domain\")"
   ]
  },
  {
   "cell_type": "code",
   "execution_count": null,
   "id": "c26acc21",
   "metadata": {},
   "outputs": [],
   "source": [
    "means2 = [['Education','dt', edu_data[edu_data['int_model']=='dt'].q2_is_correct_int.mean()],\n",
    "         ['Education','lr', edu_data[edu_data['int_model']=='lr'].q2_is_correct_int.mean()],\n",
    "         ['Education','shap', edu_data[edu_data['bb_model']=='shap'].q2_is_correct_bb.mean()],\n",
    "         ['Education','no_shap', edu_data[edu_data['bb_model']=='no_shap'].q2_is_correct_bb.mean()],\n",
    "         ['Housing','dt', hous_data[hous_data['int_model']=='dt'].q2_is_correct_int.mean()],\n",
    "         ['Housing','lr', hous_data[hous_data['int_model']=='lr'].q2_is_correct_int.mean()],\n",
    "         ['Housing','shap', hous_data[hous_data['bb_model']=='shap'].q2_is_correct_bb.mean()],\n",
    "         ['Housing','no_shap', hous_data[hous_data['bb_model']=='no_shap'].q2_is_correct_bb.mean()]]\n",
    "    \n",
    "Task_2_Performance_Data = pd.DataFrame(means2, columns =['Domain','Model', 'Task 2 Performance (% correct)'])\n",
    "Task_2_Performance_Data['Model'] = Task_2_Performance_Data['Model'].apply(convert_to_photoshoot_names)"
   ]
  },
  {
   "cell_type": "code",
   "execution_count": null,
   "id": "69d31571",
   "metadata": {},
   "outputs": [],
   "source": [
    "ax = sns.barplot(x=\"Task 2 Performance (% correct)\", y=\"Model\", hue=\"Domain\",data=Task_2_Performance_Data, orient=\"h\", palette=\"Set2\")\n",
    "ax.legend(bbox_to_anchor=(1.02, 1), loc='upper left', borderaxespad=0, title=\"Domain\")"
   ]
  },
  {
   "cell_type": "markdown",
   "id": "801fd510",
   "metadata": {},
   "source": [
    "# Model performance figures"
   ]
  }
 ],
 "metadata": {
  "kernelspec": {
   "display_name": "Python 3 (ipykernel)",
   "language": "python",
   "name": "python3"
  },
  "language_info": {
   "codemirror_mode": {
    "name": "ipython",
    "version": 3
   },
   "file_extension": ".py",
   "mimetype": "text/x-python",
   "name": "python",
   "nbconvert_exporter": "python",
   "pygments_lexer": "ipython3",
   "version": "3.9.5"
  }
 },
 "nbformat": 4,
 "nbformat_minor": 5
}
